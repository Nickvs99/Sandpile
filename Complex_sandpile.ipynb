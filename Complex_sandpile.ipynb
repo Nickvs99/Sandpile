{
 "cells": [
  {
   "cell_type": "code",
   "execution_count": 44,
   "id": "fourth-evanescence",
   "metadata": {},
   "outputs": [],
   "source": [
    "import numpy as np\n",
    "import copy\n",
    "import math \n",
    "import random\n",
    "import matplotlib.pyplot as plt"
   ]
  },
  {
   "cell_type": "code",
   "execution_count": 40,
   "id": "pediatric-spirituality",
   "metadata": {},
   "outputs": [],
   "source": [
    "def Sandpile_2D(size, crit_values, sand_types, trails, boundary_con = False, adding_method = \"position\", seed = 0):\n",
    "    # basic sandpile model of given size (size by size matrix) with given critical value and trails\n",
    "    # boundary_con is True walled model (sand is not removed) if False sand is removed from the sides\n",
    "    # adding method; Where are the grains added using the add_sand function (position, random, normal)\n",
    "    np.random.seed(seed)\n",
    "    random.seed(seed)\n",
    "    \n",
    "    data = np.zeros(trails)\n",
    "    Order = [-1, -2, -3, -4]\n",
    "    A = np.zeros((size,size))\n",
    "    Rep_3D = []\n",
    "    for i in range(size):\n",
    "        Rep_3D.append([])\n",
    "        for j in range(size):\n",
    "             Rep_3D[i].append([])\n",
    "    \n",
    "    for k in range(trails):\n",
    "        # add sand to the model\n",
    "        pos = add_sand(A, adding_method)\n",
    "        Sand_type = np.random.randint(1,1 + sand_types)\n",
    "        Rep_3D[pos[0]][pos[1]].append(Sand_type)\n",
    "        \n",
    "        # update the model simetaniously\n",
    "\n",
    "        B = copy.deepcopy(A)\n",
    "        avalage, control =  [0,0]\n",
    "        while True:\n",
    "            for i in range(0, len(A)):\n",
    "                for j in range(0, len(A[0])):\n",
    "                    if not Rep_3D[i][j]:\n",
    "                        continue\n",
    "                    \n",
    "                    Temp_type = Rep_3D[i][j][-1]\n",
    "                    if  A[i][j] - min(neigbours(B, [i,j])[0]) >= crit_values[Temp_type - 1] and B[i][j] >= 4:\n",
    "                        \n",
    "                        avalage += 1\n",
    "                        # add to surrounding area\n",
    "                        random.shuffle(Order)\n",
    "                        itter = 0\n",
    "                        for adj in range(-1, 2, 2):\n",
    "                            if neigbours(A, [i,j])[1][itter] == 1:\n",
    "                                A[i+ adj][j] += 1\n",
    "                                Rep_3D[i+ adj][j].append(Rep_3D[i][j][Order[itter]])\n",
    "                            itter += 1\n",
    "\n",
    "                            if neigbours(A, [i,j])[1][itter] == 1:\n",
    "                                A[i][j + adj] += 1\n",
    "                                Rep_3D[i][j + adj].append(Rep_3D[i][j][Order[itter]])\n",
    "                            itter += 1\n",
    "\n",
    "                        # implement the boundary condition and lower the pile at critical value\n",
    "                        if boundary_con == True:\n",
    "                            A[i][j] -= sum(neigbours(A, [i,j])[1])\n",
    "                            for r in range(sum(neigbours(A, [i,j])[1])):\n",
    "                                Rep_3D[i][j].pop()\n",
    "                        else:\n",
    "                            A[i][j] -= 4\n",
    "                            for r in range(4):\n",
    "                                Rep_3D[i][j].pop()\n",
    "            \n",
    "            if control == avalage:\n",
    "                data[k] = avalage\n",
    "                break\n",
    "                    \n",
    "            control = avalage\n",
    "                    \n",
    "    return A, Rep_3D, data"
   ]
  },
  {
   "cell_type": "code",
   "execution_count": 4,
   "id": "neither-shell",
   "metadata": {},
   "outputs": [],
   "source": [
    "def neigbours(Matrix, cord):\n",
    "    # find the neibour values of a given cell\n",
    "    # Returns the values and gives the neigbours that exist given the dataset\n",
    "    # in order: left, upper, right and down neigbouring cells.\n",
    "    \n",
    "    neigbours = list()\n",
    "    real = np.zeros(4)\n",
    "    \n",
    "    if cord[0] >= 1:\n",
    "        neigbours.append(Matrix[cord[0] - 1][cord[1]])\n",
    "        real[0] += 1\n",
    "    if cord[1] >= 1:\n",
    "        neigbours.append(Matrix[cord[0]][cord[1] - 1])\n",
    "        real[1] += 1\n",
    "    \n",
    "    if cord[0] < len(Matrix) - 1:\n",
    "        neigbours.append(Matrix[cord[0] + 1][cord[1]])\n",
    "        real[2] += 1\n",
    "    if cord[1] < len(Matrix) - 1:\n",
    "        neigbours.append(Matrix[cord[0]][cord[1] + 1])\n",
    "        real[3] += 1\n",
    "        \n",
    "    return neigbours, real"
   ]
  },
  {
   "cell_type": "code",
   "execution_count": 3,
   "id": "incident-pendant",
   "metadata": {},
   "outputs": [],
   "source": [
    "def add_sand(Matrix, method, cords = [-1, -1], std = -1):\n",
    "    # add value to matrix using various methods'\n",
    "    # position: at given postion standard is center\n",
    "    # random: at random position\n",
    "    # normal: at a normal distribution with given stanardard deviation around given position\n",
    "    # standard postion is center and standard deviation is 1/6 th of the matrix size (3 SD intervall covers 99.9% of the matrix)\n",
    "    \n",
    "    if method.lower() == \"random\":\n",
    "        randcords = [np.random.randint(len(Matrix) - 1), np.random.randint(len(Matrix[0]) - 1)]\n",
    "        return randcords\n",
    "    \n",
    "    # set values of cordinates if no values are given\n",
    "    if cords[0] == -1:\n",
    "        cords[0] = math.floor(len(Matrix)/2)\n",
    "    if cords[1] == -1:\n",
    "        cords[1] = math.floor(len(Matrix)/2)\n",
    "    \n",
    "    if method.lower() == \"position\":\n",
    "        Matrix[cords[0]][cords[1]] += 1\n",
    "        return cords\n",
    "    \n",
    "    if method.lower() == \"normal\":\n",
    "        # set value of standard deviation\n",
    "        if std == -1:\n",
    "            std = math.ceil(len(Matrix)/6)\n",
    "        \n",
    "        randcords = [np.random.normal(cords[0], std), np.random.normal(cords[1], std)]\n",
    "        Matrix[randcords[0]][randcords[1]] += 1\n",
    "        return randcords"
   ]
  },
  {
   "cell_type": "code",
   "execution_count": 5,
   "id": "resident-minute",
   "metadata": {},
   "outputs": [
    {
     "data": {
      "text/plain": [
       "[-3, -1, -2, -4]"
      ]
     },
     "execution_count": 5,
     "metadata": {},
     "output_type": "execute_result"
    }
   ],
   "source": [
    "Order = [-1, -2, -3, -4]\n",
    "random.shuffle(Order)\n",
    "Order"
   ]
  },
  {
   "cell_type": "code",
   "execution_count": 52,
   "id": "raised-strength",
   "metadata": {},
   "outputs": [],
   "source": [
    "Matrix, C_Matrix, ava = Sandpile_2D(5, [4, 10], 2, 1000)"
   ]
  },
  {
   "cell_type": "code",
   "execution_count": 31,
   "id": "potential-minnesota",
   "metadata": {},
   "outputs": [
    {
     "data": {
      "text/plain": [
       "[]"
      ]
     },
     "execution_count": 31,
     "metadata": {},
     "output_type": "execute_result"
    }
   ],
   "source": [
    "size = 5\n",
    "Rep_3D = []\n",
    "for i in range(size):\n",
    "    Rep_3D.append([])\n",
    "    for j in range(size):\n",
    "        Rep_3D[i].append([])\n",
    "        \n",
    "Rep_3D[0][0]"
   ]
  },
  {
   "cell_type": "code",
   "execution_count": 79,
   "id": "acceptable-spank",
   "metadata": {},
   "outputs": [
    {
     "data": {
      "text/plain": [
       "(array([6.432e+03, 1.012e+03, 6.520e+02, 4.900e+02, 3.640e+02, 2.890e+02,\n",
       "        2.080e+02, 1.340e+02, 1.180e+02, 8.300e+01, 6.400e+01, 4.700e+01,\n",
       "        2.900e+01, 1.900e+01, 1.800e+01, 1.300e+01, 1.100e+01, 4.000e+00,\n",
       "        4.000e+00, 2.000e+00, 3.000e+00, 0.000e+00, 1.000e+00, 0.000e+00,\n",
       "        1.000e+00, 0.000e+00, 0.000e+00, 0.000e+00, 2.000e+00, 0.000e+00]),\n",
       " array([ 0.,  1.,  2.,  3.,  4.,  5.,  6.,  7.,  8.,  9., 10., 11., 12.,\n",
       "        13., 14., 15., 16., 17., 18., 19., 20., 21., 22., 23., 24., 25.,\n",
       "        26., 27., 28., 29., 30.]),\n",
       " <BarContainer object of 30 artists>)"
      ]
     },
     "execution_count": 79,
     "metadata": {},
     "output_type": "execute_result"
    },
    {
     "data": {
      "image/png": "[encoded data removed]",
      "text/plain": [
       "<Figure size 432x288 with 1 Axes>"
      ]
     },
     "metadata": {
      "needs_background": "light"
     },
     "output_type": "display_data"
    }
   ],
   "source": [
    "Matrix, C_Matrix, ava = Sandpile_2D(5, [4, 10], 2, 10000)\n",
    "plt.hist(ava, bins=30, range = [0, 30])"
   ]
  },
  {
   "cell_type": "code",
   "execution_count": 80,
   "id": "given-destiny",
   "metadata": {},
   "outputs": [
    {
     "data": {
      "text/plain": [
       "(array([6.657e+03, 1.373e+03, 3.360e+02, 3.210e+02, 2.730e+02, 2.040e+02,\n",
       "        1.780e+02, 1.110e+02, 9.000e+01, 8.600e+01, 7.200e+01, 5.500e+01,\n",
       "        6.100e+01, 4.600e+01, 4.800e+01, 3.100e+01, 1.700e+01, 1.200e+01,\n",
       "        6.000e+00, 1.000e+01, 4.000e+00, 3.000e+00, 3.000e+00, 1.000e+00,\n",
       "        0.000e+00, 1.000e+00, 1.000e+00, 0.000e+00, 0.000e+00, 0.000e+00]),\n",
       " array([ 0.,  1.,  2.,  3.,  4.,  5.,  6.,  7.,  8.,  9., 10., 11., 12.,\n",
       "        13., 14., 15., 16., 17., 18., 19., 20., 21., 22., 23., 24., 25.,\n",
       "        26., 27., 28., 29., 30.]),\n",
       " <BarContainer object of 30 artists>)"
      ]
     },
     "execution_count": 80,
     "metadata": {},
     "output_type": "execute_result"
    },
    {
     "data": {
      "image/png": "[encoded data removed]",
      "text/plain": [
       "<Figure size 432x288 with 1 Axes>"
      ]
     },
     "metadata": {
      "needs_background": "light"
     },
     "output_type": "display_data"
    }
   ],
   "source": [
    "Matrix, C_Matrix, ava = Sandpile_2D(5, [4, 5], 2, 10000)\n",
    "plt.hist(ava, bins=30, range = [0, 30])"
   ]
  },
  {
   "cell_type": "code",
   "execution_count": 81,
   "id": "industrial-passing",
   "metadata": {},
   "outputs": [
    {
     "data": {
      "text/plain": [
       "(array([6.798e+03, 1.426e+03, 2.610e+02, 2.390e+02, 2.310e+02, 1.940e+02,\n",
       "        1.760e+02, 9.100e+01, 8.500e+01, 9.000e+01, 1.190e+02, 6.000e+01,\n",
       "        4.300e+01, 3.200e+01, 3.200e+01, 2.800e+01, 2.300e+01, 1.800e+01,\n",
       "        1.000e+01, 1.500e+01, 1.200e+01, 4.000e+00, 4.000e+00, 3.000e+00,\n",
       "        4.000e+00, 1.000e+00, 0.000e+00, 1.000e+00, 0.000e+00, 0.000e+00]),\n",
       " array([ 0.,  1.,  2.,  3.,  4.,  5.,  6.,  7.,  8.,  9., 10., 11., 12.,\n",
       "        13., 14., 15., 16., 17., 18., 19., 20., 21., 22., 23., 24., 25.,\n",
       "        26., 27., 28., 29., 30.]),\n",
       " <BarContainer object of 30 artists>)"
      ]
     },
     "execution_count": 81,
     "metadata": {},
     "output_type": "execute_result"
    },
    {
     "data": {
      "image/png": "[encoded data removed]",
      "text/plain": [
       "<Figure size 432x288 with 1 Axes>"
      ]
     },
     "metadata": {
      "needs_background": "light"
     },
     "output_type": "display_data"
    }
   ],
   "source": [
    "Matrix, C_Matrix, ava = Sandpile_2D(5, [9, 10], 2, 10000)\n",
    "plt.hist(ava, bins=30, range = [0, 30])"
   ]
  },
  {
   "cell_type": "code",
   "execution_count": null,
   "id": "tribal-dominican",
   "metadata": {},
   "outputs": [],
   "source": []
  }
 ],
 "metadata": {
  "kernelspec": {
   "display_name": "Python 3",
   "language": "python",
   "name": "python3"
  },
  "language_info": {
   "codemirror_mode": {
    "name": "ipython",
    "version": 3
   },
   "file_extension": ".py",
   "mimetype": "text/x-python",
   "name": "python",
   "nbconvert_exporter": "python",
   "pygments_lexer": "ipython3",
   "version": "3.8.5"
  }
 },
 "nbformat": 4,
 "nbformat_minor": 5
}
