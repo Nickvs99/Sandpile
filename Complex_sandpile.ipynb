{
 "cells": [
  {
   "cell_type": "code",
   "execution_count": 21,
   "id": "nasty-cowboy",
   "metadata": {},
   "outputs": [],
   "source": [
    "import numpy as np\n",
    "import copy\n",
    "import math \n",
    "import random"
   ]
  },
  {
   "cell_type": "code",
   "execution_count": 26,
   "id": "scientific-fraction",
   "metadata": {},
   "outputs": [],
   "source": [
    "def Sandpile_2D(size, crit_values, sand_types, trails, boundary_con = False, adding_method = \"position\"):\n",
    "    # basic sandpile model of given size (size by size matrix) with given critical value and trails\n",
    "    # boundary_con is True walled model (sand is not removed) if False sand is removed from the sides\n",
    "    # adding method; Where are the grains added using the add_sand function (position, random, normal)\n",
    "    data = np.zeros(trails)\n",
    "    Order = [-1, -2, -3, -4]\n",
    "    A = np.zeros((size,size))\n",
    "    Rep_3D = []\n",
    "    for i in range(size):\n",
    "        A.append([])\n",
    "        for j in range(size):\n",
    "             A[i].append([])\n",
    "    \n",
    "    for k in range(trails):\n",
    "        # add sand to the model\n",
    "        pos = add_sand(A, adding_method)\n",
    "        Sand_type = np.random.randint(1,1 + sand_types)\n",
    "        Rep_3D[pos[0]][pos[1]].apppend(Sand_type)\n",
    "        \n",
    "        # update the model simetaniously\n",
    "        B = copy.deepcopy(A)\n",
    "        avalage = 0\n",
    "        control = -1\n",
    "        while True:\n",
    "             for i in range(0, len(A)):\n",
    "                for j in range(0, len(A[0])):\n",
    "                    if  A[i][j] - min(neigbours(B, [i,j])[0]) >= crit_values[Sand_type - 1] and B[i][j] >= 4:\n",
    "                        avalage += 1\n",
    "                        # add to surrounding area\n",
    "                        random.shuffle(Order)\n",
    "                        itter = 0\n",
    "                        for adj in range(-1, 2, 2):\n",
    "                            if neigbours(A, [i,j])[1][itter] == 1:\n",
    "                                A[i+ adj][j] += 1\n",
    "                                Rep_3D[i+ adj][j].append(Rep_3D[i][j][Order[itter]])\n",
    "                            itter += 1\n",
    "\n",
    "                            if neigbours(A, [i,j])[1][itter] == 1:\n",
    "                                A[i][j + adj] += 1\n",
    "                                Rep_3D[i][j + adj].append(Rep_3D[i][j][Order[itter]])\n",
    "                            itter += 1\n",
    "\n",
    "                        # implement the boundary condition and lower the pile at critical value\n",
    "                        if boundary_con == True:\n",
    "                            A[i][j] -= sum(neigbours(A, [i,j])[1])\n",
    "                            for k in range(sum(neigbours(A, [i,j])[1])):\n",
    "                                A[i][j].pop()\n",
    "                        else:\n",
    "                            A[i][j] -= 4\n",
    "                            for k in range(4):\n",
    "                                A[i][j].pop()\n",
    "                \n",
    "                if control == avalage:\n",
    "                    data[trail] == avalage\n",
    "                    break\n",
    "                    \n",
    "                control = avalage\n",
    "                    \n",
    "    return A, Rep_3D, data"
   ]
  },
  {
   "cell_type": "code",
   "execution_count": 171,
   "id": "informative-semiconductor",
   "metadata": {},
   "outputs": [],
   "source": [
    "def neigbours(Matrix, cord):\n",
    "    # find the neibour values of a given cell\n",
    "    # Returns the values and gives the neigbours that exist given the dataset\n",
    "    # in order: left, upper, right and down neigbouring cells.\n",
    "    \n",
    "    neigbours = list()\n",
    "    real = np.zeros(4)\n",
    "    \n",
    "    if cord[0] >= 1:\n",
    "        neigbours.append(Matrix[cord[0] - 1][cord[1]])\n",
    "        real[0] += 1\n",
    "    if cord[1] >= 1:\n",
    "        neigbours.append(Matrix[cord[0]][cord[1] - 1])\n",
    "        real[1] += 1\n",
    "    \n",
    "    if cord[0] < len(Matrix) - 1:\n",
    "        neigbours.append(Matrix[cord[0] + 1][cord[1]])\n",
    "        real[2] += 1\n",
    "    if cord[1] < len(Matrix) - 1:\n",
    "        neigbours.append(Matrix[cord[0]][cord[1] + 1])\n",
    "        real[3] += 1\n",
    "        \n",
    "    return neigbours, real"
   ]
  },
  {
   "cell_type": "code",
   "execution_count": 170,
   "id": "controversial-student",
   "metadata": {},
   "outputs": [],
   "source": [
    "def add_sand(Matrix, method, cords = [-1, -1], std = -1):\n",
    "    # add value to matrix using various methods'\n",
    "    # position: at given postion standard is center\n",
    "    # random: at random position\n",
    "    # normal: at a normal distribution with given stanardard deviation around given position\n",
    "    # standard postion is center and standard deviation is 1/6 th of the matrix size (3 SD intervall covers 99.9% of the matrix)\n",
    "    \n",
    "    if method.lower() == \"random\":\n",
    "        randcords = [np.random.randint(len(Matrix) - 1), np.random.randint(len(Matrix[0]) - 1)]\n",
    "        return randcords\n",
    "    \n",
    "    # set values of cordinates if no values are given\n",
    "    if cords[0] == -1:\n",
    "        cords[0] = math.floor(len(Matrix)/2)\n",
    "    if cords[1] == -1:\n",
    "        cords[1] = math.floor(len(Matrix)/2)\n",
    "    \n",
    "    if method.lower() == \"position\":\n",
    "        print(\"this\")\n",
    "\n",
    "        Matrix[cords[0]][cords[1]] += 1\n",
    "        return cords\n",
    "    \n",
    "    if method.lower() == \"normal\":\n",
    "        # set value of standard deviation\n",
    "        if std == -1:\n",
    "            std = math.ceil(len(Matrix)/6)\n",
    "        \n",
    "        randcords = [np.random.normal(cords[0], std), np.random.normal(cords[1], std)]\n",
    "        Matrix[randcords[0]][randcords[1]] += 1\n",
    "        return randcords"
   ]
  },
  {
   "cell_type": "code",
   "execution_count": 17,
   "id": "iraqi-delta",
   "metadata": {},
   "outputs": [
    {
     "data": {
      "text/plain": [
       "[[[], [], [], [], []],\n",
       " [[], [], [], [], []],\n",
       " [[], [], [], [], []],\n",
       " [[], [], [], [], []],\n",
       " [[], [], [], [], []]]"
      ]
     },
     "execution_count": 17,
     "metadata": {},
     "output_type": "execute_result"
    }
   ],
   "source": [
    "size = 5\n",
    "A = []\n",
    "for i in range(size):\n",
    "    A.append([])\n",
    "    for j in range(size):\n",
    "         A[i].append([])\n",
    "A"
   ]
  },
  {
   "cell_type": "code",
   "execution_count": 19,
   "id": "adjusted-bernard",
   "metadata": {},
   "outputs": [],
   "source": [
    "A[1][1].append(1)"
   ]
  },
  {
   "cell_type": "code",
   "execution_count": 23,
   "id": "revised-tutorial",
   "metadata": {},
   "outputs": [
    {
     "data": {
      "text/plain": [
       "[-2, -1, -4, -3]"
      ]
     },
     "execution_count": 23,
     "metadata": {},
     "output_type": "execute_result"
    }
   ],
   "source": [
    "Order = [-1, -2, -3, -4]\n",
    "random.shuffle(Order)\n",
    "Order"
   ]
  },
  {
   "cell_type": "code",
   "execution_count": null,
   "id": "greek-factory",
   "metadata": {},
   "outputs": [],
   "source": []
  }
 ],
 "metadata": {
  "kernelspec": {
   "display_name": "Python 3",
   "language": "python",
   "name": "python3"
  },
  "language_info": {
   "codemirror_mode": {
    "name": "ipython",
    "version": 3
   },
   "file_extension": ".py",
   "mimetype": "text/x-python",
   "name": "python",
   "nbconvert_exporter": "python",
   "pygments_lexer": "ipython3",
   "version": "3.8.5"
  }
 },
 "nbformat": 4,
 "nbformat_minor": 5
}
