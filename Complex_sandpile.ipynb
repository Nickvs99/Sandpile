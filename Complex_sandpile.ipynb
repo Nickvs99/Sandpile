{
 "cells": [
  {
   "cell_type": "code",
   "execution_count": 145,
   "id": "surprising-kernel",
   "metadata": {},
   "outputs": [],
   "source": [
    "import numpy as np\n",
    "import copy\n",
    "import math  "
   ]
  },
  {
   "cell_type": "code",
   "execution_count": 173,
   "id": "latest-flexibility",
   "metadata": {},
   "outputs": [],
   "source": [
    "def Sandpile_2D(size, crit_value, trails, boundary_con = False, adding_method = \"position\"):\n",
    "    # basic sandpile model of given size (size by size matrix) with given critical value and trails\n",
    "    # boundary_con is True walled model (sand is not removed) if False sand is removed from the sides\n",
    "    # adding method; Where are the grains added using the add_sand function (position, random, normal)\n",
    "    \n",
    "    A = np.zeros((size,size))\n",
    "    for k in range(trails):\n",
    "        \n",
    "        # add sand to the model\n",
    "        add_sand(A, adding_method)\n",
    "        \n",
    "        # update the model simetaniously\n",
    "        B = copy.deepcopy(A)\n",
    "        for i in range(0, len(A)):\n",
    "            for j in range(0, len(A[0])):\n",
    "                if  A[i][j] - min(neigbours(B, [i,j])[0]) >= crit_value and B[i][j] >= 4:\n",
    "                    \n",
    "                    # implement the boundary condition and lower the pile at critical value\n",
    "                    if boundary_con == True:\n",
    "                        A[i][j] -= sum(neigbours(A, [i,j])[1])\n",
    "                    else:\n",
    "                        A[i][j] -= 4\n",
    "\n",
    "                    # add to surrounding area\n",
    "                    itter = 0\n",
    "                    for adj in range(-1, 2, 2):\n",
    "                        if neigbours(A, [i,j])[1][itter] == 1:\n",
    "                            A[i + adj][j] += 1\n",
    "                        itter += 1\n",
    "\n",
    "                        if neigbours(A, [i,j])[1][itter] == 1:\n",
    "                            A[i][j + adj] += 1\n",
    "                        itter += 1\n",
    "    return A"
   ]
  },
  {
   "cell_type": "code",
   "execution_count": 171,
   "id": "short-compression",
   "metadata": {},
   "outputs": [],
   "source": [
    "def neigbours(Matrix, cord):\n",
    "    # find the neibour values of a given cell\n",
    "    # Returns the values and gives the neigbours that exist given the dataset\n",
    "    # in order: left, upper, right and down neigbouring cells.\n",
    "    \n",
    "    neigbours = list()\n",
    "    real = np.zeros(4)\n",
    "    \n",
    "    if cord[0] >= 1:\n",
    "        neigbours.append(Matrix[cord[0] - 1][cord[1]])\n",
    "        real[0] += 1\n",
    "    if cord[1] >= 1:\n",
    "        neigbours.append(Matrix[cord[0]][cord[1] - 1])\n",
    "        real[1] += 1\n",
    "    \n",
    "    if cord[0] < len(Matrix) - 1:\n",
    "        neigbours.append(Matrix[cord[0] + 1][cord[1]])\n",
    "        real[2] += 1\n",
    "    if cord[1] < len(Matrix) - 1:\n",
    "        neigbours.append(Matrix[cord[0]][cord[1] + 1])\n",
    "        real[3] += 1\n",
    "        \n",
    "    return neigbours, real"
   ]
  },
  {
   "cell_type": "code",
   "execution_count": 170,
   "id": "painted-accessory",
   "metadata": {},
   "outputs": [],
   "source": [
    "def add_sand(Matrix, method, cords = [-1, -1], std = -1):\n",
    "    # add value to matrix using various methods'\n",
    "    # position: at given postion standard is center\n",
    "    # random: at random position\n",
    "    # normal: at a normal distribution with given stanardard deviation around given position\n",
    "    # standard postion is center and standard deviation is 1/6 th of the matrix size (3 SD intervall covers 99.9% of the matrix)\n",
    "    \n",
    "    if method.lower() == \"random\":\n",
    "        Matrix[np.random.randint(len(Matrix) - 1)][np.random.randint(len(Matrix[0]) - 1)] += 1\n",
    "        return\n",
    "    \n",
    "    # set values of cordinates if no values are given\n",
    "    if cords[0] == -1:\n",
    "        cords[0] = math.floor(len(Matrix)/2)\n",
    "    if cords[1] == -1:\n",
    "        cords[1] = math.floor(len(Matrix)/2)\n",
    "    \n",
    "    if method.lower() == \"position\":\n",
    "        print(\"this\")\n",
    "\n",
    "        Matrix[cords[0]][cords[1]] += 1\n",
    "        return\n",
    "    \n",
    "    if method.lower() == \"normal\":\n",
    "        # set value of standard deviation\n",
    "        if std == -1:\n",
    "            std = math.ceil(len(Matrix)/6)\n",
    "            \n",
    "        Matrix[np.random.normal(cords[0], std)][np.random.normal(cords[1], std)] += 1"
   ]
  },
  {
   "cell_type": "code",
   "execution_count": null,
   "id": "found-monkey",
   "metadata": {},
   "outputs": [],
   "source": []
  }
 ],
 "metadata": {
  "kernelspec": {
   "display_name": "Python 3",
   "language": "python",
   "name": "python3"
  },
  "language_info": {
   "codemirror_mode": {
    "name": "ipython",
    "version": 3
   },
   "file_extension": ".py",
   "mimetype": "text/x-python",
   "name": "python",
   "nbconvert_exporter": "python",
   "pygments_lexer": "ipython3",
   "version": "3.8.5"
  }
 },
 "nbformat": 4,
 "nbformat_minor": 5
}
